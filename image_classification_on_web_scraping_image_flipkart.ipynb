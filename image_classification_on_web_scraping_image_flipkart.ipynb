{
 "cells": [
  {
   "cell_type": "markdown",
   "metadata": {},
   "source": [
    "# Assignment-2 "
   ]
  },
  {
   "cell_type": "markdown",
   "metadata": {
    "colab_type": "text",
    "id": "AuQHIZKxs8ck"
   },
   "source": [
    "Deep learning based Image classification model on 100 scrapped Images (for each category) from flipkart for the below categories :\n",
    "\n",
    "\n",
    "1) Trousers (men) (100 images)\n",
    "\n",
    "2) Jeans (men) (100 images)\n"
   ]
  },
  {
   "cell_type": "code",
   "execution_count": null,
   "metadata": {
    "colab": {},
    "colab_type": "code",
    "id": "a-9JznYhb4hK"
   },
   "outputs": [],
   "source": [
    "# deep learning based Image classification model as per assignment 1 try on downloaded image from web scraping\n",
    "#get acess from google drive data into google colab\n",
    "\n",
    "from google.colab import drive\n",
    "drive.mount('/content/drive')"
   ]
  },
  {
   "cell_type": "code",
   "execution_count": null,
   "metadata": {
    "colab": {},
    "colab_type": "code",
    "id": "2Z1CAIS1b7MA"
   },
   "outputs": [],
   "source": [
    "from zipfile import ZipFile\n",
    "file= \"/content/Flipcart_Mens_trouser_jeans_dataset.zip\"\n",
    "with ZipFile(file,'r') as zip:\n",
    "  zip.extractall()\n",
    "  print('finish')"
   ]
  },
  {
   "cell_type": "code",
   "execution_count": null,
   "metadata": {
    "colab": {},
    "colab_type": "code",
    "id": "mVmsH33vc1KI"
   },
   "outputs": [],
   "source": [
    "# Importing the Keras libraries & packages\n",
    "from keras.models import Sequential\n",
    "from keras.layers import Conv2D\n",
    "from keras.layers import MaxPooling2D\n",
    "from keras.layers import Flatten\n",
    "from keras.layers import Dense"
   ]
  },
  {
   "cell_type": "code",
   "execution_count": null,
   "metadata": {
    "colab": {},
    "colab_type": "code",
    "id": "iD2ncGwPc5CZ"
   },
   "outputs": [],
   "source": [
    "# Initialising the CNN\n",
    "\n",
    "CNN_Classification=Sequential();"
   ]
  },
  {
   "cell_type": "code",
   "execution_count": null,
   "metadata": {
    "colab": {},
    "colab_type": "code",
    "id": "ExGV1ZHMc6g1"
   },
   "outputs": [],
   "source": [
    "# Step 1 - Convolution\n",
    "CNN_Classification.add(Conv2D(32,(3,3),input_shape=(64,64,3),activation='relu'))\n",
    "CNN_Classification.add(Conv2D(16,(3,3),activation='relu'))"
   ]
  },
  {
   "cell_type": "code",
   "execution_count": null,
   "metadata": {
    "colab": {},
    "colab_type": "code",
    "id": "QZILoYPkc8JY"
   },
   "outputs": [],
   "source": [
    "# Step 2 - Pooling\n",
    "CNN_Classification.add(MaxPooling2D(pool_size=(2,2)))\n",
    "CNN_Classification.add(MaxPooling2D(pool_size=(2,2)))"
   ]
  },
  {
   "cell_type": "code",
   "execution_count": null,
   "metadata": {
    "colab": {},
    "colab_type": "code",
    "id": "IJ7hvqV1c9XC"
   },
   "outputs": [],
   "source": [
    "# Step 3 - Flattening\n",
    "CNN_Classification.add(Flatten())"
   ]
  },
  {
   "cell_type": "code",
   "execution_count": null,
   "metadata": {
    "colab": {},
    "colab_type": "code",
    "id": "Zl41TubGc-hV"
   },
   "outputs": [],
   "source": [
    "# Step 4 - Full connection\n",
    "\n",
    "CNN_Classification.add(Dense(units=128, activation='relu'))\n",
    "CNN_Classification.add(Dense(units=1, activation='sigmoid'))"
   ]
  },
  {
   "cell_type": "code",
   "execution_count": null,
   "metadata": {
    "colab": {},
    "colab_type": "code",
    "id": "GIFUUXf-dAcx"
   },
   "outputs": [],
   "source": [
    "# Compiling the CNN\n",
    "CNN_Classification.compile(optimizer ='adam',loss='binary_crossentropy',metrics=['accuracy'])"
   ]
  },
  {
   "cell_type": "code",
   "execution_count": null,
   "metadata": {
    "colab": {},
    "colab_type": "code",
    "id": "FGb9UKCEdCQF"
   },
   "outputs": [],
   "source": [
    "from keras.preprocessing.image import ImageDataGenerator\n",
    "\n",
    "train_datagen = ImageDataGenerator(rescale = 1./255,\n",
    "                                   shear_range = 0.2,\n",
    "                                   zoom_range = 0.2,\n",
    "                                   horizontal_flip = True)\n",
    "\n",
    "test_datagen = ImageDataGenerator(rescale = 1./255)\n",
    "\n",
    "training_set = train_datagen.flow_from_directory('/content/Flipcart_Mens_trouser_jeans_dataset/training_dataset',\n",
    "                                                 target_size = (64, 64),\n",
    "                                                 batch_size = 32,\n",
    "                                                 class_mode = 'binary')\n",
    "\n",
    "test_set = test_datagen.flow_from_directory('/content/Flipcart_Mens_trouser_jeans_dataset/test_dataset',\n",
    "                                            target_size = (64, 64),\n",
    "                                            batch_size = 32,\n",
    "                                            class_mode = 'binary')\n",
    "\n",
    "CNN_Classification.fit_generator(training_set,\n",
    "                         steps_per_epoch = 512,\n",
    "                         epochs = 5,\n",
    "                         validation_data = test_set,\n",
    "                         validation_steps = 200)"
   ]
  },
  {
   "cell_type": "code",
   "execution_count": null,
   "metadata": {
    "colab": {},
    "colab_type": "code",
    "id": "taeUAGL3drsm"
   },
   "outputs": [],
   "source": [
    "# predictions for dog image using train model\n",
    "import numpy as np\n",
    "from keras.preprocessing import image\n",
    "tested_image = image.load_img('/content/Flipcart_Mens_trouser_jeans_dataset/single_prediction/Mens_jeans_or_trouser_01.jpeg',target_size=(64,64))\n",
    "tested_image = image.img_to_array(tested_image)\n",
    "tested_image = np.expand_dims(tested_image,axis = 0)\n",
    "output = CNN_Classification.predict(tested_image)\n",
    "training_set.class_indices\n",
    "if output[0][0] ==1:\n",
    "  prediction = 'jeans'\n",
    "  print(prediction )\n",
    "else:\n",
    "  prediction = 'trouser'\n",
    "  print(prediction )"
   ]
  },
  {
   "cell_type": "code",
   "execution_count": null,
   "metadata": {
    "colab": {},
    "colab_type": "code",
    "id": "GHwxsSPWdzjB"
   },
   "outputs": [],
   "source": [
    "# predictions for cat image using train model\n",
    "import numpy as np\n",
    "from keras.preprocessing import image\n",
    "tested_image = image.load_img('/content/Flipcart_Mens_trouser_jeans_dataset/single_prediction/Mens_jeans_or_trouser_02.jpeg',target_size=(64,64))\n",
    "tested_image = image.img_to_array(tested_image)\n",
    "tested_image = np.expand_dims(tested_image,axis = 0)\n",
    "output = CNN_Classification.predict(tested_image)\n",
    "training_set.class_indices\n",
    "if output[0][0] ==1:\n",
    "  prediction = 'jeans'\n",
    "  print(prediction )\n",
    "else:\n",
    "  prediction = 'trouser'\n",
    "  print(prediction )"
   ]
  },
  {
   "cell_type": "code",
   "execution_count": null,
   "metadata": {
    "colab": {},
    "colab_type": "code",
    "id": "t2t6cdmho8KX"
   },
   "outputs": [],
   "source": []
  }
 ],
 "metadata": {
  "accelerator": "GPU",
  "colab": {
   "name": "image classification.ipynb",
   "provenance": []
  },
  "kernelspec": {
   "display_name": "Python 3",
   "language": "python",
   "name": "python3"
  },
  "language_info": {
   "codemirror_mode": {
    "name": "ipython",
    "version": 3
   },
   "file_extension": ".py",
   "mimetype": "text/x-python",
   "name": "python",
   "nbconvert_exporter": "python",
   "pygments_lexer": "ipython3",
   "version": "3.7.6"
  }
 },
 "nbformat": 4,
 "nbformat_minor": 1
}
