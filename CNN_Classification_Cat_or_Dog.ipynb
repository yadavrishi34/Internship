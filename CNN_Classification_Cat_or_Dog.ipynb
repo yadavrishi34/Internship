{
 "cells": [
  {
   "cell_type": "code",
   "execution_count": null,
   "metadata": {
    "colab": {},
    "colab_type": "code",
    "id": "FvZLGyJ8O_dC"
   },
   "outputs": [],
   "source": [
    "#get acess from google drive data into google colab\n",
    "\n",
    "from google.colab import drive\n",
    "drive.mount('/content/drive')"
   ]
  },
  {
   "cell_type": "code",
   "execution_count": null,
   "metadata": {
    "colab": {},
    "colab_type": "code",
    "id": "KYvZ1L7CQjJu"
   },
   "outputs": [],
   "source": [
    "from zipfile import ZipFile\n",
    "file= \"/content/drive/My Drive/Colab Notebooks/CNN_Classification of Cat or Dog.zip\"\n",
    "with ZipFile(file,'r') as zip:\n",
    "  zip.extractall()\n",
    "  print('finish')"
   ]
  },
  {
   "cell_type": "code",
   "execution_count": null,
   "metadata": {
    "colab": {},
    "colab_type": "code",
    "id": "I03BBLBUR9N8"
   },
   "outputs": [],
   "source": [
    "# Importing the Keras libraries & packages\n",
    "from keras.models import Sequential\n",
    "from keras.layers import Conv2D\n",
    "from keras.layers import MaxPooling2D\n",
    "from keras.layers import Flatten\n",
    "from keras.layers import Dense"
   ]
  },
  {
   "cell_type": "code",
   "execution_count": null,
   "metadata": {
    "colab": {},
    "colab_type": "code",
    "id": "MTZEt8cTVT1p"
   },
   "outputs": [],
   "source": [
    "# Initialising the CNN\n",
    "\n",
    "CNN_Classification=Sequential();\n"
   ]
  },
  {
   "cell_type": "code",
   "execution_count": null,
   "metadata": {
    "colab": {},
    "colab_type": "code",
    "id": "kWj1PmdUVXx5"
   },
   "outputs": [],
   "source": [
    "# Step 1 - Convolution\n",
    "CNN_Classification.add(Conv2D(32,(3,3),input_shape=(64,64,3),activation='relu'))\n",
    "CNN_Classification.add(Conv2D(16,(3,3),activation='relu'))"
   ]
  },
  {
   "cell_type": "code",
   "execution_count": null,
   "metadata": {
    "colab": {},
    "colab_type": "code",
    "id": "Hfimwn60VizO"
   },
   "outputs": [],
   "source": [
    "# Step 2 - Pooling\n",
    "CNN_Classification.add(MaxPooling2D(pool_size=(2,2)))\n",
    "CNN_Classification.add(MaxPooling2D(pool_size=(2,2)))"
   ]
  },
  {
   "cell_type": "code",
   "execution_count": null,
   "metadata": {
    "colab": {},
    "colab_type": "code",
    "id": "_MW01HkVVnOX"
   },
   "outputs": [],
   "source": [
    "# Step 3 - Flattening\n",
    "CNN_Classification.add(Flatten())"
   ]
  },
  {
   "cell_type": "code",
   "execution_count": null,
   "metadata": {
    "colab": {},
    "colab_type": "code",
    "id": "-eCZu8UrXPaU"
   },
   "outputs": [],
   "source": [
    "# Step 4 - Full connection\n",
    "\n",
    "CNN_Classification.add(Dense(units=128, activation='relu'))\n",
    "CNN_Classification.add(Dense(units=1, activation='sigmoid'))"
   ]
  },
  {
   "cell_type": "code",
   "execution_count": null,
   "metadata": {
    "colab": {},
    "colab_type": "code",
    "id": "5uK06pFGXbo5"
   },
   "outputs": [],
   "source": [
    "# Compiling the CNN\n",
    "CNN_Classification.compile(optimizer ='adam',loss='binary_crossentropy',metrics=['accuracy'])"
   ]
  },
  {
   "cell_type": "code",
   "execution_count": null,
   "metadata": {
    "colab": {},
    "colab_type": "code",
    "id": "P9TXHXSIXge6"
   },
   "outputs": [],
   "source": [
    "from keras.preprocessing.image import ImageDataGenerator\n",
    "\n",
    "train_datagen = ImageDataGenerator(rescale = 1./255,\n",
    "                                   shear_range = 0.2,\n",
    "                                   zoom_range = 0.2,\n",
    "                                   horizontal_flip = True)\n",
    "\n",
    "test_datagen = ImageDataGenerator(rescale = 1./255)\n",
    "\n",
    "training_set = train_datagen.flow_from_directory('/content/Data/dataset/training_set',\n",
    "                                                 target_size = (64, 64),\n",
    "                                                 batch_size = 32,\n",
    "                                                 class_mode = 'binary')\n",
    "\n",
    "test_set = test_datagen.flow_from_directory('/content/Data/dataset/test_set',\n",
    "                                            target_size = (64, 64),\n",
    "                                            batch_size = 32,\n",
    "                                            class_mode = 'binary')\n",
    "\n",
    "CNN_Classification.fit_generator(training_set,\n",
    "                         steps_per_epoch = 5000,\n",
    "                         epochs = 5,\n",
    "                         validation_data = test_set,\n",
    "                         validation_steps = 2000)"
   ]
  },
  {
   "cell_type": "code",
   "execution_count": null,
   "metadata": {
    "colab": {},
    "colab_type": "code",
    "id": "p0yXGvo7ZbVl"
   },
   "outputs": [],
   "source": [
    "# predictions for dog image using train model\n",
    "import numpy as np\n",
    "from keras.preprocessing import image\n",
    "tested_image = image.load_img('/content/Data/dataset/single_prediction/cat_or_dog_1.jpg',target_size=(64,64))\n",
    "tested_image = image.img_to_array(tested_image)\n",
    "tested_image = np.expand_dims(tested_image,axis = 0)\n",
    "output = CNN_Classification.predict(tested_image)\n",
    "training_set.class_indices\n",
    "if output[0][0] ==1:\n",
    "  prediction = 'dog'\n",
    "  print(prediction )\n",
    "else:\n",
    "  prediction = 'cat'\n",
    "  print(prediction )"
   ]
  },
  {
   "cell_type": "code",
   "execution_count": null,
   "metadata": {
    "colab": {
     "base_uri": "https://localhost:8080/",
     "height": 34
    },
    "colab_type": "code",
    "executionInfo": {
     "elapsed": 1502,
     "status": "ok",
     "timestamp": 1593027566885,
     "user": {
      "displayName": "Rishi Yadav",
      "photoUrl": "https://lh3.googleusercontent.com/a-/AOh14GjLx-Cn4OrL361ehTQBdtRn3dPg-mqMg7HEQbiknP4=s64",
      "userId": "10434737947833194578"
     },
     "user_tz": -330
    },
    "id": "3ts0j_Ub0FOB",
    "outputId": "b0817bf7-31cb-4689-898e-0e3a9cbdc490"
   },
   "outputs": [
    {
     "name": "stdout",
     "output_type": "stream",
     "text": [
      "cat\n"
     ]
    }
   ],
   "source": [
    "# predictions for cat image using train model\n",
    "import numpy as np\n",
    "from keras.preprocessing import image\n",
    "tested_image = image.load_img('/content/Data/dataset/single_prediction/cat_or_dog_2.jpg',target_size=(64,64))\n",
    "tested_image = image.img_to_array(tested_image)\n",
    "tested_image = np.expand_dims(tested_image,axis = 0)\n",
    "output = CNN_Classification.predict(tested_image)\n",
    "training_set.class_indices\n",
    "if output[0][0] ==1:\n",
    "  prediction = 'dog'\n",
    "  print(prediction )\n",
    "else:\n",
    "  prediction = 'cat'\n",
    "  print(prediction )"
   ]
  },
  {
   "cell_type": "code",
   "execution_count": null,
   "metadata": {
    "colab": {},
    "colab_type": "code",
    "id": "J0hfU12I15Z3"
   },
   "outputs": [],
   "source": []
  }
 ],
 "metadata": {
  "accelerator": "GPU",
  "colab": {
   "authorship_tag": "ABX9TyOuqd5uoZdWSmDNOUZltDl4",
   "collapsed_sections": [],
   "name": "CNN_Classification_Cat_or_Dog.ipynb",
   "provenance": [
    {
     "file_id": "1DqSKCS-anS7GF1VvOqEd4SgeTSpZKOUD",
     "timestamp": 1593027615821
    }
   ]
  },
  "kernelspec": {
   "display_name": "Python 3",
   "language": "python",
   "name": "python3"
  },
  "language_info": {
   "codemirror_mode": {
    "name": "ipython",
    "version": 3
   },
   "file_extension": ".py",
   "mimetype": "text/x-python",
   "name": "python",
   "nbconvert_exporter": "python",
   "pygments_lexer": "ipython3",
   "version": "3.7.6"
  }
 },
 "nbformat": 4,
 "nbformat_minor": 1
}
